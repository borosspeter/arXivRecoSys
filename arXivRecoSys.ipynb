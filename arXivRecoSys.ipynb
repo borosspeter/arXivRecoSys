{
 "cells": [
  {
   "cell_type": "markdown",
   "id": "pressing-cloud",
   "metadata": {},
   "source": [
    "# Recommendation system for arXiv manuscripts by Peter Boross"
   ]
  },
  {
   "cell_type": "code",
   "execution_count": 1,
   "id": "third-punishment",
   "metadata": {},
   "outputs": [],
   "source": [
    "import numpy as np\n",
    "import pandas as pd\n",
    "from datetime import datetime\n",
    "from datetime import timedelta\n",
    "import warnings\n",
    "import time\n",
    "import json\n",
    "import arxiv\n",
    "import sqlite3\n",
    "import urllib.request as libreq\n",
    "import re\n",
    "from collections import Counter\n",
    "import unidecode\n",
    "import itertools\n",
    "import pickle\n",
    "from sklearn.feature_extraction.text import TfidfVectorizer, CountVectorizer\n",
    "from sklearn.pipeline import Pipeline\n",
    "from sklearn.model_selection import train_test_split\n",
    "from sklearn.naive_bayes import MultinomialNB\n",
    "from sklearn.model_selection import cross_validate\n",
    "from sklearn.metrics import confusion_matrix, accuracy_score, roc_curve, auc\n",
    "from sklearn.compose import ColumnTransformer\n",
    "from sklearn.model_selection import ShuffleSplit"
   ]
  },
  {
   "cell_type": "markdown",
   "id": "temporal-transparency",
   "metadata": {},
   "source": [
    "### Helper functions"
   ]
  },
  {
   "cell_type": "code",
   "execution_count": 2,
   "id": "educational-davis",
   "metadata": {},
   "outputs": [],
   "source": [
    "def get_authors_FLast(authors):\n",
    "    r = []\n",
    "    for author in authors:\n",
    "        if len(author[1]) == 0: r.append(unidecode.unidecode(author[0]))\n",
    "        else: r.append(unidecode.unidecode(author[1][0]+author[0]))    \n",
    "    return ' '.join(r)\n",
    "\n",
    "def get_authors_FLast_arxivapi(authors):\n",
    "    r = []\n",
    "    for authorv in authors:\n",
    "        author = authorv.split(' ')\n",
    "        r.append(unidecode.unidecode(author[0][0]+author[-1]))    \n",
    "    return ' '.join(r)\n",
    "\n",
    "def get_authors_FdotLastcomma(authors):\n",
    "    r = []\n",
    "    for author in authors:\n",
    "        authorv = author.split(' ')\n",
    "        r.append(unidecode.unidecode(' '.join([x[0]+'.' for x in authorv[0:-1]])+' '+authorv[-1]))\n",
    "    return ', '.join(r)\n",
    "\n",
    "def progress_bar(relevance):\n",
    "    s = 100-int(100-100*relevance/5)\n",
    "    if s > 14:\n",
    "        if s > 17:\n",
    "            color = 'red'\n",
    "        else:\n",
    "            color = 'orange'\n",
    "    else:\n",
    "        color = 'green'\n",
    "    return '|<font color=\"'+color+'\">'+'█'*s+'</font>'+'-'*(20-s)+'|'"
   ]
  },
  {
   "cell_type": "markdown",
   "id": "premier-string",
   "metadata": {},
   "source": [
    "### Define categories"
   ]
  },
  {
   "cell_type": "code",
   "execution_count": 3,
   "id": "local-promise",
   "metadata": {},
   "outputs": [],
   "source": [
    "categories = {'cond-mat', 'cond-mat.mes-hall', 'quant-ph', 'cond-mat.supr-con', 'cond-mat.mtrl-sci', 'cond-mat.str-el', 'cond-mat.other'}"
   ]
  },
  {
   "cell_type": "markdown",
   "id": "cardiovascular-glasgow",
   "metadata": {},
   "source": [
    "### Load manuscripts from arXiv JSON by Kaggle"
   ]
  },
  {
   "cell_type": "code",
   "execution_count": 4,
   "id": "secondary-ecology",
   "metadata": {},
   "outputs": [
    {
     "output_type": "stream",
     "name": "stdout",
     "text": [
      "number of papers = 315071\n"
     ]
    }
   ],
   "source": [
    "manuscripts = []\n",
    "\n",
    "with open(\"data/arxiv-metadata-oai-snapshot.json\", \"r\") as f:\n",
    "    for l in f:\n",
    "        d = json.loads(l)\n",
    "        if categories & set(d['categories'].split(' ')):\n",
    "            d['authors_FLast'] = get_authors_FLast(d['authors_parsed'])\n",
    "            manuscripts.append(d)\n",
    "\n",
    "manuscripts_df = pd.DataFrame().from_records(manuscripts)\n",
    "\n",
    "print('number of papers =',len(manuscripts))"
   ]
  },
  {
   "cell_type": "markdown",
   "id": "interested-formula",
   "metadata": {},
   "source": [
    "### Find manuscript of the authors"
   ]
  },
  {
   "cell_type": "code",
   "execution_count": 5,
   "id": "quantitative-thong",
   "metadata": {},
   "outputs": [
    {
     "output_type": "stream",
     "name": "stdout",
     "text": [
      "number of papers of the authors = 90\n"
     ]
    }
   ],
   "source": [
    "authors = ['PBoross','LOroszlany','APalyi','JAsboth','GSzechenyi']\n",
    "\n",
    "ownids = list(manuscripts_df[manuscripts_df[\"authors_FLast\"].str.contains('|'.join(authors))]['id'])\n",
    "\n",
    "print('number of papers of the authors =',len(ownids))"
   ]
  },
  {
   "cell_type": "markdown",
   "id": "worst-netscape",
   "metadata": {},
   "source": [
    "### Find cited papers by prophy.science"
   ]
  },
  {
   "cell_type": "code",
   "execution_count": 6,
   "id": "moderate-samuel",
   "metadata": {},
   "outputs": [
    {
     "output_type": "stream",
     "name": "stdout",
     "text": [
      "number of cited papers of the authors = 1541\n"
     ]
    }
   ],
   "source": [
    "citedids = ownids.copy()\n",
    "\n",
    "for id in ownids:\n",
    "    with libreq.urlopen('https://www.prophy.science/api/arxiv/' + id) as url:\n",
    "        refs1manuscript = json.loads(url.read())\n",
    "    citedids.extend([ref['arxivId'] for ref in refs1manuscript['references'] if ref['arxivId'] != None])\n",
    "\n",
    "citedidscounted = sorted(Counter(citedids).items(), key=lambda pair: pair[1], reverse=True)\n",
    "citedids = [entry[0] for entry in citedidscounted]\n",
    "counts = [entry[1] for entry in citedidscounted]\n",
    "citedidscounteddict = dict(zip(citedids, counts))\n",
    "\n",
    "print('number of cited papers of the authors =',len(citedidscounted))"
   ]
  },
  {
   "cell_type": "markdown",
   "id": "animated-report",
   "metadata": {},
   "source": [
    "### Make training dataset and write it out"
   ]
  },
  {
   "cell_type": "code",
   "execution_count": 9,
   "id": "worth-finnish",
   "metadata": {},
   "outputs": [
    {
     "output_type": "stream",
     "name": "stdout",
     "text": [
      "number of cited papers which in the selected categories = 1498\n",
      "number of non-cited papers which in the selected categories = 14980\n"
     ]
    }
   ],
   "source": [
    "cited_df = manuscripts_df[manuscripts_df['id'].isin(citedids)][['abstract','title','authors_FLast','id']].replace(citedidscounteddict).rename(columns = {'id': 'citation'})\n",
    "cited_df['cited'] = True\n",
    "\n",
    "print('number of cited papers which in the selected categories =',len(cited_df))\n",
    "\n",
    "notcited_df = manuscripts_df[manuscripts_df['id'].isin(citedids) == False][['abstract','title','authors_FLast']].sample(n = 10*len(cited_df))\n",
    "notcited_df['citation'] = 0\n",
    "notcited_df['cited'] = False\n",
    "\n",
    "print('number of non-cited papers which in the selected categories =',len(notcited_df))\n",
    "\n",
    "all_df = pd.concat([cited_df, notcited_df])\n",
    "\n",
    "all_df.to_csv('data/traindataset.csv')"
   ]
  },
  {
   "cell_type": "markdown",
   "id": "abstract-samoa",
   "metadata": {},
   "source": [
    "### Split to X and y"
   ]
  },
  {
   "cell_type": "code",
   "execution_count": 10,
   "id": "dramatic-novelty",
   "metadata": {},
   "outputs": [],
   "source": [
    "#all_df = pd.read_csv('data/traindataset.csv', index_col=0)\n",
    "\n",
    "X = all_df[['authors_FLast','title','abstract']]\n",
    "y = list(all_df['cited'])"
   ]
  },
  {
   "cell_type": "markdown",
   "id": "local-homeless",
   "metadata": {},
   "source": [
    "### Build the model and make cross validation"
   ]
  },
  {
   "cell_type": "code",
   "execution_count": 11,
   "id": "refined-labor",
   "metadata": {},
   "outputs": [
    {
     "output_type": "stream",
     "name": "stdout",
     "text": [
      "train accuracy =  94.0% test accuracy = 93.7%\ntrain precision =  65.4% test precision = 62.0%\ntrain recall =  74.0% test recall = 67.5%\ntrain roc_auc =  95.6% test roc_auc = 93.5%\n"
     ]
    }
   ],
   "source": [
    "authors_feature = 'authors_FLast'\n",
    "authors_transformer = CountVectorizer(lowercase=False, max_features = 1000)\n",
    "\n",
    "title_feature = 'title'\n",
    "title_transformer = TfidfVectorizer(stop_words='english', ngram_range=(1,3), max_features = 2000)\n",
    "\n",
    "abstract_feature = 'abstract'\n",
    "abstract_transformer = TfidfVectorizer(stop_words='english', ngram_range=(1,3), max_features = 5000)\n",
    "\n",
    "preprocessor = ColumnTransformer(\n",
    "    transformers=[\n",
    "        ('authors_FLast', authors_transformer, authors_feature),\n",
    "        ('title', title_transformer, title_feature),\n",
    "        ('abstract', abstract_transformer, abstract_feature)\n",
    "    ])\n",
    "\n",
    "pipeline = Pipeline(steps=[('preprocessor', preprocessor),\n",
    "                           ('classifier', MultinomialNB())])\n",
    "\n",
    "scores = cross_validate(pipeline, X, y, cv=ShuffleSplit(n_splits=5),\n",
    "                        scoring=('accuracy', 'precision', 'recall' , 'roc_auc'),\n",
    "                        return_train_score=True)\n",
    "\n",
    "print('train accuracy = ',\"{:.1f}%\".format(100*np.mean(scores['train_accuracy'])),'test accuracy =',\"{:.1f}%\".format(100*np.mean(scores['test_accuracy'])))\n",
    "print('train precision = ',\"{:.1f}%\".format(100*np.mean(scores['train_precision'])),'test precision =',\"{:.1f}%\".format(100*np.mean(scores['test_precision'])))\n",
    "print('train recall = ',\"{:.1f}%\".format(100*np.mean(scores['train_recall'])),'test recall =',\"{:.1f}%\".format(100*np.mean(scores['test_recall'])))\n",
    "print('train roc_auc = ',\"{:.1f}%\".format(100*np.mean(scores['train_roc_auc'])),'test roc_auc =',\"{:.1f}%\".format(100*np.mean(scores['test_roc_auc'])))"
   ]
  },
  {
   "cell_type": "markdown",
   "id": "greater-angel",
   "metadata": {},
   "source": [
    "### Fit the model and save it"
   ]
  },
  {
   "source": [
    "pipeline.fit(X, y);\n",
    "\n",
    "filename = 'data/model.sav'\n",
    "pickle.dump(pipeline, open(filename, 'wb'))"
   ],
   "cell_type": "code",
   "metadata": {},
   "execution_count": 12,
   "outputs": []
  },
  {
   "source": [
    "### Make a query and predict"
   ],
   "cell_type": "markdown",
   "metadata": {}
  },
  {
   "cell_type": "code",
   "execution_count": 135,
   "id": "sonic-romance",
   "metadata": {},
   "outputs": [
    {
     "output_type": "stream",
     "name": "stdout",
     "text": [
      "number of the requested papers =  306\n"
     ]
    },
    {
     "output_type": "execute_result",
     "data": {
      "text/plain": [
       "                                    id  published  \\\n",
       "65   http://arxiv.org/abs/2106.01391v1 2021-06-02   \n",
       "51   http://arxiv.org/abs/2106.01576v1 2021-06-03   \n",
       "251  http://arxiv.org/abs/2105.14864v1 2021-05-31   \n",
       "129  http://arxiv.org/abs/2106.00800v1 2021-06-01   \n",
       "141  http://arxiv.org/abs/2106.00709v1 2021-06-01   \n",
       "\n",
       "                                 authors_FdotLastcomma  \\\n",
       "65                           D. Buterakos, S. D. Sarma   \n",
       "51   K. Kuroyama, S. Matsuo, J. Muramoto, S. Yabuna...   \n",
       "251  A. Rossi, N. W. Hendrickx, A. Sammak, M. Veldh...   \n",
       "129                      B. Mera, A. Zhang, N. Goldman   \n",
       "141  B. J. Wieder, B. Bradlyn, J. Cano, Z. Wang, M....   \n",
       "\n",
       "                                                 title  \\\n",
       "65   Spin-Valley Qubit Dynamics In Exchange Coupled...   \n",
       "51   Real-time observation of charge-spin cooperati...   \n",
       "251                      Single-Hole Pump in Germanium   \n",
       "129  Relating the topology of Dirac Hamiltonians to...   \n",
       "141  Topological Materials Discovery from Nonmagnet...   \n",
       "\n",
       "                                              abstract  relevance  \n",
       "65   The presence of valley states is a significant...   0.992946  \n",
       "51   Quantum dots are recognized as a suitable plat...   0.953067  \n",
       "251  Single-charge pumps are the main candidates fo...   0.903983  \n",
       "129  Quantum geometry has emerged as a central and ...   0.845283  \n",
       "141  We present a review of topological electronic ...   0.824020  "
      ],
      "text/html": "<div>\n<style scoped>\n    .dataframe tbody tr th:only-of-type {\n        vertical-align: middle;\n    }\n\n    .dataframe tbody tr th {\n        vertical-align: top;\n    }\n\n    .dataframe thead th {\n        text-align: right;\n    }\n</style>\n<table border=\"1\" class=\"dataframe\">\n  <thead>\n    <tr style=\"text-align: right;\">\n      <th></th>\n      <th>id</th>\n      <th>published</th>\n      <th>authors_FdotLastcomma</th>\n      <th>title</th>\n      <th>abstract</th>\n      <th>relevance</th>\n    </tr>\n  </thead>\n  <tbody>\n    <tr>\n      <th>65</th>\n      <td>http://arxiv.org/abs/2106.01391v1</td>\n      <td>2021-06-02</td>\n      <td>D. Buterakos, S. D. Sarma</td>\n      <td>Spin-Valley Qubit Dynamics In Exchange Coupled...</td>\n      <td>The presence of valley states is a significant...</td>\n      <td>0.992946</td>\n    </tr>\n    <tr>\n      <th>51</th>\n      <td>http://arxiv.org/abs/2106.01576v1</td>\n      <td>2021-06-03</td>\n      <td>K. Kuroyama, S. Matsuo, J. Muramoto, S. Yabuna...</td>\n      <td>Real-time observation of charge-spin cooperati...</td>\n      <td>Quantum dots are recognized as a suitable plat...</td>\n      <td>0.953067</td>\n    </tr>\n    <tr>\n      <th>251</th>\n      <td>http://arxiv.org/abs/2105.14864v1</td>\n      <td>2021-05-31</td>\n      <td>A. Rossi, N. W. Hendrickx, A. Sammak, M. Veldh...</td>\n      <td>Single-Hole Pump in Germanium</td>\n      <td>Single-charge pumps are the main candidates fo...</td>\n      <td>0.903983</td>\n    </tr>\n    <tr>\n      <th>129</th>\n      <td>http://arxiv.org/abs/2106.00800v1</td>\n      <td>2021-06-01</td>\n      <td>B. Mera, A. Zhang, N. Goldman</td>\n      <td>Relating the topology of Dirac Hamiltonians to...</td>\n      <td>Quantum geometry has emerged as a central and ...</td>\n      <td>0.845283</td>\n    </tr>\n    <tr>\n      <th>141</th>\n      <td>http://arxiv.org/abs/2106.00709v1</td>\n      <td>2021-06-01</td>\n      <td>B. J. Wieder, B. Bradlyn, J. Cano, Z. Wang, M....</td>\n      <td>Topological Materials Discovery from Nonmagnet...</td>\n      <td>We present a review of topological electronic ...</td>\n      <td>0.824020</td>\n    </tr>\n  </tbody>\n</table>\n</div>"
     },
     "metadata": {},
     "execution_count": 135
    }
   ],
   "source": [
    "filename = 'data/model.sav'\n",
    "pipeline = pickle.load(open(filename, 'rb'))\n",
    "\n",
    "days = 5\n",
    "delta = timedelta(days = days)\n",
    "catstr = '+OR+'.join(['cat:'+x for x in categories])\n",
    "client = arxiv.Client()\n",
    "nquery = 500\n",
    "startquery = 0\n",
    "lastquery = nquery\n",
    "latestdate = False\n",
    "predicted_df = pd.DataFrame(columns = ['id','published','authors_FdotLastcomma','authors_FLast', 'title', 'abstract'])\n",
    "\n",
    "while lastquery == nquery:\n",
    "    feedparser = client._parse_feed(url='http://export.arxiv.org/api/query?search_query='+catstr+'&start='+str(startquery)+'&max_results='+str(nquery)+'&sortBy=submittedDate')\n",
    "    if len(feedparser.entries) == 0:\n",
    "        warnings.warn(\"Warning...........arXiv api provides 0 entry\")\n",
    "    lastquery = 0\n",
    "    for entry in feedparser.entries:\n",
    "        if not(latestdate): latestdate = datetime.strptime(entry.published[0:10],'%Y-%m-%d')\n",
    "        if latestdate - datetime.strptime(entry.published[0:10],'%Y-%m-%d') < delta:\n",
    "            lastquery += 1\n",
    "            predicted_df = predicted_df.append({\n",
    "                'id' : entry.id,\n",
    "                'authors_FdotLastcomma' : get_authors_FdotLastcomma([author['name'] for author in entry.authors]),\n",
    "                'authors_FLast' : get_authors_FLast_arxivapi([author['name'] for author in entry.authors]),\n",
    "                'title' : entry.title.replace('\\n', ' '),\n",
    "                'abstract' : entry.summary.replace('\\n', ' '),\n",
    "                'published': datetime.strptime(entry.published[0:10],'%Y-%m-%d')\n",
    "                            }, ignore_index = True)\n",
    "    startquery += nquery\n",
    "    time.sleep(5)\n",
    "\n",
    "Xnew = predicted_df[['authors_FLast','title','abstract']]\n",
    "\n",
    "predicted_df['relevance'] = [x[1] for x in pipeline.predict_proba(Xnew)]\n",
    "print('number of the requested papers = ',predicted_df.shape[0])\n",
    "\n",
    "predicted_df[['id','published','authors_FdotLastcomma','title','abstract','relevance']].sort_values(by=['relevance'],ascending=False).head(5)"
   ]
  },
  {
   "source": [
    "### Write predictions into 'manuscripts.db'"
   ],
   "cell_type": "markdown",
   "metadata": {}
  },
  {
   "cell_type": "code",
   "execution_count": 29,
   "metadata": {},
   "outputs": [],
   "source": [
    "tosql_df = predicted_df[['id','published','authors_FdotLastcomma','title','abstract','relevance']].rename(columns = {\"authors_FdotLastcomma\": \"authors\"})\n",
    "\n",
    "conn = sqlite3.connect('data/manuscripts.db')\n",
    "c = conn.cursor()\n",
    "\n",
    "c.execute('CREATE TABLE IF NOT EXISTS manuscripts (id, published, authors, title, abstract, relevance)')\n",
    "conn.commit()\n",
    "\n",
    "tosql_df.to_sql('manuscripts', conn, if_exists = 'replace', index = False)"
   ]
  },
  {
   "source": [
    "### Write predictions into 'manuscripts.html'"
   ],
   "cell_type": "markdown",
   "metadata": {}
  },
  {
   "cell_type": "code",
   "execution_count": 282,
   "metadata": {
    "tags": []
   },
   "outputs": [],
   "source": [
    "tohtml_df = predicted_df[['id','published','authors_FdotLastcomma','title','abstract','relevance']].rename(columns = {\"authors_FdotLastcomma\": \"authors\"})\n",
    "\n",
    "day = False\n",
    "html = '<ul>\\n'\n",
    "html += '<hr>\\n'\n",
    "for idx, row in tohtml_df[tohtml_df['relevance']>0.5].sort_values(by=['published','relevance'],ascending=False).iterrows():\n",
    "    if day != row['published']:\n",
    "        html += '<b><font size=\"+2\">'+row['published'].strftime('%-d %B, %Y')+'</font></b>\\n'\n",
    "        html += '<hr>\\n'\n",
    "        day = row['published']\n",
    "    html += '<li>\\n'\n",
    "    html += '<a href=\"'+row['id']+'\">arXiv:'+row['id'].split('http://arxiv.org/abs/')[-1][:-2]+'</a>'\n",
    "    html += '<br />\\n'\n",
    "    html += '<b><font size=\"+1\">Relevance:</b></font>'\n",
    "    html += '<font size=\"+0\" style=\"font-family:courier, monospace\">'+progress_bar(row['relevance'])+'</font>'\n",
    "    html += '<font size=\"+1\">'+str(round(100*row['relevance'],1))+'%</font>'\n",
    "    html += '<br />\\n'\n",
    "    html += '<b><font size=\"+1\">Title:</b> '+row['title']+'</font>'\n",
    "    html += '<br />\\n'\n",
    "    html += '<b><font size=\"+1\">Authors:</font></b> <i>'+row['authors']+'</i>'\n",
    "    html += '<br />\\n'\n",
    "    html += '<b><font size=\"+1\">Abstract:</font></b> '+row['abstract']\n",
    "    #html += '<br />\\n'\n",
    "    #html += '<b>Submitted:</b> '+row['published'].strftime('%-d %B, %Y')+'\\n'\n",
    "    html += '<br />\\n'\n",
    "    html += '</li>\\n'\n",
    "    html += '<hr>\\n'\n",
    "html += '</ul>'\n",
    "\n",
    "with open(\"data/manuscripts.html\", \"w\") as file:\n",
    "    file.write(html)"
   ]
  }
 ],
 "metadata": {
  "kernelspec": {
   "name": "python3810jvsc74a57bd074819d5766a1d2ad05cf1ca12736bfed9e6c5a54bd78b045d29372533f44b271",
   "display_name": "Python 3.8.10 64-bit ('base': conda)"
  },
  "language_info": {
   "codemirror_mode": {
    "name": "ipython",
    "version": 3
   },
   "file_extension": ".py",
   "mimetype": "text/x-python",
   "name": "python",
   "nbconvert_exporter": "python",
   "pygments_lexer": "ipython3",
   "version": "3.8.10"
  }
 },
 "nbformat": 4,
 "nbformat_minor": 5
}