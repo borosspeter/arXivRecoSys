{
 "cells": [
  {
   "cell_type": "markdown",
   "id": "pressing-cloud",
   "metadata": {},
   "source": [
    "# Recommendation system for arXiv manuscripts by Peter Boross"
   ]
  },
  {
   "cell_type": "code",
   "execution_count": null,
   "id": "third-punishment",
   "metadata": {},
   "outputs": [],
   "source": [
    "import numpy as np\n",
    "import pandas as pd\n",
    "from datetime import datetime\n",
    "from datetime import timedelta\n",
    "import json\n",
    "import arxiv\n",
    "import urllib.request as libreq\n",
    "import re\n",
    "from collections import Counter\n",
    "import unidecode\n",
    "import itertools\n",
    "from sklearn.feature_extraction.text import TfidfVectorizer, CountVectorizer\n",
    "from sklearn.pipeline import Pipeline\n",
    "from sklearn.model_selection import train_test_split\n",
    "from sklearn.naive_bayes import MultinomialNB\n",
    "from sklearn.model_selection import cross_validate\n",
    "from sklearn.metrics import confusion_matrix, accuracy_score, roc_curve, auc\n",
    "from sklearn.compose import ColumnTransformer\n",
    "from sklearn.model_selection import ShuffleSplit"
   ]
  },
  {
   "cell_type": "markdown",
   "id": "temporal-transparency",
   "metadata": {},
   "source": [
    "### Helper functions"
   ]
  },
  {
   "cell_type": "code",
   "execution_count": 2,
   "id": "educational-davis",
   "metadata": {},
   "outputs": [],
   "source": [
    "def get_authors_LastF(authors):\n",
    "    r = []\n",
    "    for author in authors:\n",
    "        if len(author[1]) == 0: r.append(unidecode.unidecode(author[0]))\n",
    "        else: r.append(unidecode.unidecode(author[0]+author[1][0]))    \n",
    "    return ' '.join(r)\n",
    "\n",
    "def get_authors_LastF_2(authors):\n",
    "    r = []\n",
    "    for authorv in authors:\n",
    "        author = authorv['name'].split(' ')\n",
    "        r.append(unidecode.unidecode(author[-1]+author[0][0]))    \n",
    "    return ' '.join(r)"
   ]
  },
  {
   "cell_type": "markdown",
   "id": "architectural-bride",
   "metadata": {},
   "source": [
    "### Define categories"
   ]
  },
  {
   "cell_type": "code",
   "execution_count": 7,
   "id": "mediterranean-subsection",
   "metadata": {},
   "outputs": [],
   "source": [
    "categories = {'cond-mat', 'cond-mat.mes-hall', 'quant-ph', 'cond-mat.supr-con', 'cond-mat.mtrl-sci', 'cond-mat.str-el', 'cond-mat.other'}"
   ]
  },
  {
   "cell_type": "markdown",
   "id": "cardiovascular-glasgow",
   "metadata": {},
   "source": [
    "### Load manuscripts from arXiv JSON by Kaggle"
   ]
  },
  {
   "cell_type": "code",
   "execution_count": null,
   "id": "secondary-ecology",
   "metadata": {},
   "outputs": [],
   "source": [
    "articles = []\n",
    "\n",
    "with open(\"data/arxiv-metadata-oai-snapshot.json\", \"r\") as f:\n",
    "    for l in f:\n",
    "        d = json.loads(l)\n",
    "        if categories & set(d['categories'].split(' ')):\n",
    "            d['authors_LastF'] = get_authors_LastF(d['authors_parsed'])\n",
    "            articles.append(d)\n",
    "\n",
    "articles_df = pd.DataFrame().from_records(articles)\n",
    "\n",
    "print('number of papers =',len(articles))"
   ]
  },
  {
   "cell_type": "markdown",
   "id": "interested-formula",
   "metadata": {},
   "source": [
    "### Find manuscript of the authors"
   ]
  },
  {
   "cell_type": "code",
   "execution_count": null,
   "id": "quantitative-thong",
   "metadata": {},
   "outputs": [],
   "source": [
    "authors = ['BorossP','OroszlanyL','PalyiA','AsbothJ','SzechenyiG']\n",
    "\n",
    "ids = list(articles_df[articles_df[\"authors_LastF\"].str.contains('|'.join(authors))]['id'])\n",
    "\n",
    "print('number of papers of the authors =',len(ids))"
   ]
  },
  {
   "cell_type": "markdown",
   "id": "worst-netscape",
   "metadata": {},
   "source": [
    "### Find cited papers by prophy.science"
   ]
  },
  {
   "cell_type": "code",
   "execution_count": null,
   "id": "moderate-samuel",
   "metadata": {},
   "outputs": [],
   "source": [
    "refs=[]\n",
    "\n",
    "for id in ids:\n",
    "    with libreq.urlopen('https://www.prophy.science/api/arxiv/' + id) as url:\n",
    "        refs1paper = json.loads(url.read())\n",
    "    refs.extend([ref['arxivId'] for ref in refs1paper['references'] if ref['arxivId'] != None])\n",
    "\n",
    "refscounted = sorted(Counter(refs).items(), key=lambda pair: pair[1], reverse=True)\n",
    "refs = [entry[0] for entry in refscounted]\n",
    "counts = [entry[1] for entry in refscounted]\n",
    "refscounteddict = dict(zip(refs, counts))\n",
    "\n",
    "print('number of cited papers of the authors =',len(refscounted))"
   ]
  },
  {
   "cell_type": "markdown",
   "id": "animated-report",
   "metadata": {},
   "source": [
    "### Make training dataset"
   ]
  },
  {
   "cell_type": "code",
   "execution_count": null,
   "id": "worth-finnish",
   "metadata": {},
   "outputs": [],
   "source": [
    "cited_df = articles_df[articles_df['id'].isin(refs)][['abstract','title','authors_LastF','id']].replace(refscounteddict).rename(columns = {'id': 'citation', 'authors_LastF': 'authors'})\n",
    "cited_df['cited'] = True\n",
    "\n",
    "print('number of cited papers which in the selected categories =',len(cited_df))\n",
    "\n",
    "notcited_df = articles_df[articles_df['id'].isin(refs) == False][['abstract','title','authors_LastF']].sample(n = 10*len(cited_df)).rename(columns = {'authors_LastF': 'authors'})\n",
    "notcited_df['citation'] = 0\n",
    "notcited_df['cited'] = False\n",
    "\n",
    "print('number of non-cited papers which in the selected categories =',len(notcited_df))\n",
    "\n",
    "all_df = pd.concat([cited_df, notcited_df])\n",
    "\n",
    "all_df.to_csv('data/all_df.csv')"
   ]
  },
  {
   "cell_type": "markdown",
   "id": "alpha-rates",
   "metadata": {},
   "source": [
    "### Split to X and y"
   ]
  },
  {
   "cell_type": "code",
   "execution_count": 4,
   "id": "fantastic-escape",
   "metadata": {},
   "outputs": [],
   "source": [
    "all_df = pd.read_csv('data/all_df.csv', index_col=0)\n",
    "\n",
    "X = all_df[['authors','title','abstract']]\n",
    "y = list(all_df['cited'])"
   ]
  },
  {
   "cell_type": "markdown",
   "id": "local-homeless",
   "metadata": {},
   "source": [
    "### Build the model and make cross validation"
   ]
  },
  {
   "cell_type": "code",
   "execution_count": 5,
   "id": "lightweight-hepatitis",
   "metadata": {},
   "outputs": [
    {
     "name": "stdout",
     "output_type": "stream",
     "text": [
      "train accuracy =  94.0% test accuracy = 93.1%\n",
      "train precision =  65.3% test precision = 60.5%\n",
      "train recall =  74.1% test recall = 61.1%\n",
      "train roc_auc =  95.6% test roc_auc = 91.5%\n"
     ]
    }
   ],
   "source": [
    "authors_feature = 'authors'\n",
    "authors_transformer = CountVectorizer(lowercase=False, max_features = 1000)\n",
    "\n",
    "title_feature = 'title'\n",
    "title_transformer = TfidfVectorizer(stop_words='english', ngram_range=(1,3), max_features = 2000)\n",
    "\n",
    "abstract_feature = 'abstract'\n",
    "abstract_transformer = TfidfVectorizer(stop_words='english', ngram_range=(1,3), max_features = 5000)\n",
    "\n",
    "preprocessor = ColumnTransformer(\n",
    "    transformers=[\n",
    "        ('authors', authors_transformer, authors_feature),\n",
    "        ('title', title_transformer, title_feature),\n",
    "        ('abstract', abstract_transformer, abstract_feature)\n",
    "    ])\n",
    "\n",
    "pipeline = Pipeline(steps=[('preprocessor', preprocessor),\n",
    "                           ('classifier', MultinomialNB())])\n",
    "\n",
    "scores = cross_validate(pipeline, X, y, cv=ShuffleSplit(n_splits=5),\n",
    "                        scoring=('accuracy', 'precision', 'recall' , 'roc_auc'),\n",
    "                        return_train_score=True)\n",
    "\n",
    "print('train accuracy = ',\"{:.1f}%\".format(100*np.mean(scores['train_accuracy'])),'test accuracy =',\"{:.1f}%\".format(100*np.mean(scores['test_accuracy'])))\n",
    "print('train precision = ',\"{:.1f}%\".format(100*np.mean(scores['train_precision'])),'test precision =',\"{:.1f}%\".format(100*np.mean(scores['test_precision'])))\n",
    "print('train recall = ',\"{:.1f}%\".format(100*np.mean(scores['train_recall'])),'test recall =',\"{:.1f}%\".format(100*np.mean(scores['test_recall'])))\n",
    "print('train roc_auc = ',\"{:.1f}%\".format(100*np.mean(scores['train_roc_auc'])),'test roc_auc =',\"{:.1f}%\".format(100*np.mean(scores['test_roc_auc'])))"
   ]
  },
  {
   "cell_type": "markdown",
   "id": "greater-angel",
   "metadata": {},
   "source": [
    "### Fit the model"
   ]
  },
  {
   "cell_type": "code",
   "execution_count": 6,
   "id": "endless-aspect",
   "metadata": {},
   "outputs": [],
   "source": [
    "pipeline.fit(X, y);"
   ]
  },
  {
   "cell_type": "markdown",
   "id": "improved-recognition",
   "metadata": {},
   "source": [
    "### Make a query and predict"
   ]
  },
  {
   "cell_type": "code",
   "execution_count": 10,
   "id": "sonic-romance",
   "metadata": {},
   "outputs": [],
   "source": [
    "delta = timedelta(days=10)\n",
    "catstr = '+OR+'.join(['cat:'+x for x in categories])\n",
    "client = arxiv.Client()\n",
    "latest=False\n",
    "n_query = 50\n",
    "start_query = 0\n",
    "last_query = n_query\n",
    "df = pd.DataFrame(columns = ['id','authors', 'title', 'abstract'])\n",
    "\n",
    "while last_query == n_query:\n",
    "    feedparser = client._parse_feed(url='http://export.arxiv.org/api/query?search_query='+catstr+'&start='+str(start_query)+'&max_results='+str(n_query)+'&sortBy=submittedDate')\n",
    "    last_query=0\n",
    "    for entry in feedparser.entries:\n",
    "        if not(latest): latest = datetime.strptime(entry.published[0:10],'%Y-%m-%d')\n",
    "        if latest - datetime.strptime(entry.published[0:10],'%Y-%m-%d') < delta:\n",
    "            last_query+=1\n",
    "            df = df.append({\n",
    "                'id' : entry.id,\n",
    "                'authorsFull' : [author['name'] for author in entry.authors],\n",
    "                'authors' : get_authors_LastF_2(entry.authors),\n",
    "                'title' : entry.title,\n",
    "                'abstract' : entry.summary,\n",
    "                'published': datetime.strptime(entry.published[0:10],'%Y-%m-%d')\n",
    "                            }, ignore_index = True)\n",
    "    start_query += n_query\n",
    "\n",
    "Xnew = df[['authors','title','abstract']]\n",
    "\n",
    "df['pred'] = [x[1] for x in pipeline.predict_proba(Xnew)]"
   ]
  },
  {
   "cell_type": "code",
   "execution_count": 11,
   "id": "processed-arlington",
   "metadata": {},
   "outputs": [
    {
     "data": {
      "text/html": [
       "<div>\n",
       "<style scoped>\n",
       "    .dataframe tbody tr th:only-of-type {\n",
       "        vertical-align: middle;\n",
       "    }\n",
       "\n",
       "    .dataframe tbody tr th {\n",
       "        vertical-align: top;\n",
       "    }\n",
       "\n",
       "    .dataframe thead th {\n",
       "        text-align: right;\n",
       "    }\n",
       "</style>\n",
       "<table border=\"1\" class=\"dataframe\">\n",
       "  <thead>\n",
       "    <tr style=\"text-align: right;\">\n",
       "      <th></th>\n",
       "      <th>id</th>\n",
       "      <th>authorsFull</th>\n",
       "      <th>title</th>\n",
       "      <th>abstract</th>\n",
       "      <th>pred</th>\n",
       "    </tr>\n",
       "  </thead>\n",
       "  <tbody>\n",
       "    <tr>\n",
       "      <th>127</th>\n",
       "      <td>http://arxiv.org/abs/2105.11850v1</td>\n",
       "      <td>[Wenjun Kuang, Guillermo Lopez-Polin, Hyungjun...</td>\n",
       "      <td>Magnetization signature of topological surface...</td>\n",
       "      <td>Superconductors with nontrivial band structure...</td>\n",
       "      <td>0.989659</td>\n",
       "    </tr>\n",
       "    <tr>\n",
       "      <th>100</th>\n",
       "      <td>http://arxiv.org/abs/2105.12088v1</td>\n",
       "      <td>[Arnau Sala, Jeroen Danon]</td>\n",
       "      <td>Line Shapes of Electric Dipole Spin Resonance ...</td>\n",
       "      <td>Electric dipole spin resonance (EDSR) is a com...</td>\n",
       "      <td>0.982567</td>\n",
       "    </tr>\n",
       "    <tr>\n",
       "      <th>167</th>\n",
       "      <td>http://arxiv.org/abs/2105.11489v1</td>\n",
       "      <td>[Nguyen Minh Nguyen, Wojciech Brzezicki, Timo ...</td>\n",
       "      <td>Corner states, hinge states and Majorana modes...</td>\n",
       "      <td>SnTe materials are one of the most flexible ma...</td>\n",
       "      <td>0.749926</td>\n",
       "    </tr>\n",
       "    <tr>\n",
       "      <th>140</th>\n",
       "      <td>http://arxiv.org/abs/2105.11729v1</td>\n",
       "      <td>[Jan David Brehm, Paul Pöpperl, Alexander D. M...</td>\n",
       "      <td>Tunable Anderson Localization of Dark States</td>\n",
       "      <td>Random scattering of photons in disordered one...</td>\n",
       "      <td>0.622407</td>\n",
       "    </tr>\n",
       "    <tr>\n",
       "      <th>159</th>\n",
       "      <td>http://arxiv.org/abs/2105.11560v1</td>\n",
       "      <td>[Jorge Cayao, Pablo Burset]</td>\n",
       "      <td>Confinement-induced zero-bias peaks in convent...</td>\n",
       "      <td>Majorana bound states in topological supercond...</td>\n",
       "      <td>0.612309</td>\n",
       "    </tr>\n",
       "    <tr>\n",
       "      <th>1</th>\n",
       "      <td>http://arxiv.org/abs/2105.12725v1</td>\n",
       "      <td>[Chiara Devescovi, Mikel García-Díez, Iñigo Ro...</td>\n",
       "      <td>Cubic 3D Chern photonic insulators with orient...</td>\n",
       "      <td>Time Reversal Symmetry (TRS) broken topologica...</td>\n",
       "      <td>0.599044</td>\n",
       "    </tr>\n",
       "    <tr>\n",
       "      <th>102</th>\n",
       "      <td>http://arxiv.org/abs/2105.12074v1</td>\n",
       "      <td>[Jeffrey A. Ivie, Quinn Campbell, Justin C. Ko...</td>\n",
       "      <td>The impact of stochastic incorporation on atom...</td>\n",
       "      <td>Scanning tunneling microscope lithography can ...</td>\n",
       "      <td>0.514333</td>\n",
       "    </tr>\n",
       "    <tr>\n",
       "      <th>79</th>\n",
       "      <td>http://arxiv.org/abs/2105.12209v1</td>\n",
       "      <td>[Guoqing Wang, Changhao Li, Paola Cappellaro]</td>\n",
       "      <td>Observation of symmetry-protected selection ru...</td>\n",
       "      <td>Periodically driven quantum systems, known as ...</td>\n",
       "      <td>0.349097</td>\n",
       "    </tr>\n",
       "    <tr>\n",
       "      <th>99</th>\n",
       "      <td>http://arxiv.org/abs/2105.12090v1</td>\n",
       "      <td>[M. Naumann, F. Arnold, Z. Medvecka, S. -C. Wu...</td>\n",
       "      <td>Weyl nodes close to the Fermi energy in NbAs</td>\n",
       "      <td>The noncentrosymmetric transition metal monopn...</td>\n",
       "      <td>0.315583</td>\n",
       "    </tr>\n",
       "    <tr>\n",
       "      <th>198</th>\n",
       "      <td>http://arxiv.org/abs/2105.11244v1</td>\n",
       "      <td>[Huiying Huang, Diana Csontosová, Santanu Mann...</td>\n",
       "      <td>Electric-field induced tuning of electronic co...</td>\n",
       "      <td>We conduct a combined experimental and theoret...</td>\n",
       "      <td>0.309488</td>\n",
       "    </tr>\n",
       "  </tbody>\n",
       "</table>\n",
       "</div>"
      ],
      "text/plain": [
       "                                    id  \\\n",
       "127  http://arxiv.org/abs/2105.11850v1   \n",
       "100  http://arxiv.org/abs/2105.12088v1   \n",
       "167  http://arxiv.org/abs/2105.11489v1   \n",
       "140  http://arxiv.org/abs/2105.11729v1   \n",
       "159  http://arxiv.org/abs/2105.11560v1   \n",
       "1    http://arxiv.org/abs/2105.12725v1   \n",
       "102  http://arxiv.org/abs/2105.12074v1   \n",
       "79   http://arxiv.org/abs/2105.12209v1   \n",
       "99   http://arxiv.org/abs/2105.12090v1   \n",
       "198  http://arxiv.org/abs/2105.11244v1   \n",
       "\n",
       "                                           authorsFull  \\\n",
       "127  [Wenjun Kuang, Guillermo Lopez-Polin, Hyungjun...   \n",
       "100                         [Arnau Sala, Jeroen Danon]   \n",
       "167  [Nguyen Minh Nguyen, Wojciech Brzezicki, Timo ...   \n",
       "140  [Jan David Brehm, Paul Pöpperl, Alexander D. M...   \n",
       "159                        [Jorge Cayao, Pablo Burset]   \n",
       "1    [Chiara Devescovi, Mikel García-Díez, Iñigo Ro...   \n",
       "102  [Jeffrey A. Ivie, Quinn Campbell, Justin C. Ko...   \n",
       "79       [Guoqing Wang, Changhao Li, Paola Cappellaro]   \n",
       "99   [M. Naumann, F. Arnold, Z. Medvecka, S. -C. Wu...   \n",
       "198  [Huiying Huang, Diana Csontosová, Santanu Mann...   \n",
       "\n",
       "                                                 title  \\\n",
       "127  Magnetization signature of topological surface...   \n",
       "100  Line Shapes of Electric Dipole Spin Resonance ...   \n",
       "167  Corner states, hinge states and Majorana modes...   \n",
       "140       Tunable Anderson Localization of Dark States   \n",
       "159  Confinement-induced zero-bias peaks in convent...   \n",
       "1    Cubic 3D Chern photonic insulators with orient...   \n",
       "102  The impact of stochastic incorporation on atom...   \n",
       "79   Observation of symmetry-protected selection ru...   \n",
       "99        Weyl nodes close to the Fermi energy in NbAs   \n",
       "198  Electric-field induced tuning of electronic co...   \n",
       "\n",
       "                                              abstract      pred  \n",
       "127  Superconductors with nontrivial band structure...  0.989659  \n",
       "100  Electric dipole spin resonance (EDSR) is a com...  0.982567  \n",
       "167  SnTe materials are one of the most flexible ma...  0.749926  \n",
       "140  Random scattering of photons in disordered one...  0.622407  \n",
       "159  Majorana bound states in topological supercond...  0.612309  \n",
       "1    Time Reversal Symmetry (TRS) broken topologica...  0.599044  \n",
       "102  Scanning tunneling microscope lithography can ...  0.514333  \n",
       "79   Periodically driven quantum systems, known as ...  0.349097  \n",
       "99   The noncentrosymmetric transition metal monopn...  0.315583  \n",
       "198  We conduct a combined experimental and theoret...  0.309488  "
      ]
     },
     "execution_count": 11,
     "metadata": {},
     "output_type": "execute_result"
    }
   ],
   "source": [
    "df[['id','authorsFull','title','abstract','pred']].sort_values(by=['pred'],ascending=False).head(10)"
   ]
  },
  {
   "cell_type": "code",
   "execution_count": null,
   "id": "early-eleven",
   "metadata": {},
   "outputs": [],
   "source": []
  }
 ],
 "metadata": {
  "kernelspec": {
   "display_name": "Python 3",
   "language": "python",
   "name": "python3"
  },
  "language_info": {
   "codemirror_mode": {
    "name": "ipython",
    "version": 3
   },
   "file_extension": ".py",
   "mimetype": "text/x-python",
   "name": "python",
   "nbconvert_exporter": "python",
   "pygments_lexer": "ipython3",
   "version": "3.8.5"
  }
 },
 "nbformat": 4,
 "nbformat_minor": 5
}
