{
 "cells": [
  {
   "cell_type": "markdown",
   "source": [
    "# Recommendation system for arXiv manuscripts by Peter Boross"
   ],
   "metadata": {}
  },
  {
   "cell_type": "code",
   "execution_count": 1,
   "source": [
    "import time\n",
    "import numpy as np\n",
    "import pandas as pd\n",
    "from datetime import datetime\n",
    "from datetime import timedelta\n",
    "import warnings\n",
    "import time\n",
    "import json\n",
    "import arxiv\n",
    "import sqlite3\n",
    "import urllib.request as libreq\n",
    "import re\n",
    "from collections import Counter\n",
    "import unidecode\n",
    "import pickle\n",
    "from sklearn.feature_extraction.text import TfidfVectorizer, CountVectorizer\n",
    "from imblearn.pipeline import Pipeline\n",
    "from imblearn.over_sampling import RandomOverSampler\n",
    "from imblearn.under_sampling import RandomUnderSampler\n",
    "from sklearn.naive_bayes import MultinomialNB\n",
    "from sklearn.model_selection import cross_validate\n",
    "from sklearn.metrics import auc, plot_roc_curve, precision_recall_curve\n",
    "from sklearn.compose import ColumnTransformer\n",
    "from sklearn.model_selection import  StratifiedShuffleSplit\n",
    "import matplotlib.pyplot as plt\n",
    "import nltk\n",
    "from nltk import word_tokenize          \n",
    "from nltk.stem import WordNetLemmatizer\n",
    "from nltk.corpus import stopwords\n",
    "from wordcloud import wordcloud\n",
    "\n",
    "nltk.download('punkt')\n",
    "stop_words = set(stopwords.words('english')) "
   ],
   "outputs": [
    {
     "output_type": "stream",
     "name": "stderr",
     "text": [
      "[nltk_data] Downloading package punkt to /Users/bope/nltk_data...\n",
      "[nltk_data]   Package punkt is already up-to-date!\n"
     ]
    }
   ],
   "metadata": {}
  },
  {
   "cell_type": "markdown",
   "source": [
    "### Helper functions"
   ],
   "metadata": {}
  },
  {
   "cell_type": "code",
   "execution_count": 2,
   "source": [
    "def get_authors_FLast(authors):\n",
    "    r = []\n",
    "    for author in authors:\n",
    "        if len(author[1]) == 0: r.append(unidecode.unidecode(author[0]))\n",
    "        else: r.append(unidecode.unidecode(author[1][0]+author[0]))    \n",
    "    return ' '.join(r)\n",
    "\n",
    "def get_authors_FLast_arxivapi(authors):\n",
    "    r = []\n",
    "    for authorv in authors:\n",
    "        author = authorv.split(' ')\n",
    "        r.append(unidecode.unidecode(author[0][0]+author[-1]))    \n",
    "    return ' '.join(r)\n",
    "\n",
    "def get_authors_FdotLastcomma(authors):\n",
    "    r = []\n",
    "    for author in authors:\n",
    "        authorv = author.split(' ')\n",
    "        r.append(unidecode.unidecode(' '.join([x[0]+'.' for x in authorv[0:-1]])+' '+authorv[-1]))\n",
    "    return ', '.join(r)\n",
    "\n",
    "def progress_bar(relevance):\n",
    "    s = 100-int(100-100*relevance/5)\n",
    "    if s > 14:\n",
    "        if s > 17:\n",
    "            color = 'red'\n",
    "        else:\n",
    "            color = 'orange'\n",
    "    else:\n",
    "        color = 'yellow'\n",
    "    return '|<font color=\"'+color+'\">'+'█'*s+'</font>'+'-'*(20-s)+'|'\n",
    "\n",
    "def print_score_oneline(scores, type, train):\n",
    "    extra_space = 9\n",
    "    string = ''\n",
    "    if train:\n",
    "        string = 'train '+type+' '*(extra_space-len(type))+' = '+'{:.1f}%\\t\\t'.format(100*np.mean(scores['train_'+type]))\n",
    "    string += 'test '+type+' '*(extra_space-len(type))+' = '+'{:.1f}%'.format(100*np.mean(scores['test_'+type])) \n",
    "    print(string)\n",
    "\n",
    "def print_score(scores, types, train=False):\n",
    "    [print_score_oneline(scores, score, train) for score in types]\n",
    "\n",
    "def roc_curve_cv_plot(X, y, cvsplitter, estimators):\n",
    "    tprs = []\n",
    "    aucs = []\n",
    "    mean_fpr = np.linspace(0, 1, 100)\n",
    "\n",
    "    fig, ax = plt.subplots()\n",
    "    for i, (train, test) in enumerate(cvsplitter.split(X,y)):\n",
    "        viz = plot_roc_curve(estimators[i], X.iloc[test], [y[idx] for idx in test],\n",
    "                             name='ROC fold {}'.format(i),\n",
    "                             alpha=0.3, lw=1, ax=ax)\n",
    "        interp_tpr = np.interp(mean_fpr, viz.fpr, viz.tpr)\n",
    "        interp_tpr[0] = 0.0\n",
    "        tprs.append(interp_tpr)\n",
    "        aucs.append(viz.roc_auc)\n",
    "\n",
    "    ax.plot([0, 1], [0, 1], linestyle='--', lw=2, color='r', label='Chance', alpha=.8)\n",
    "\n",
    "    mean_tpr = np.mean(tprs, axis=0)\n",
    "    mean_tpr[-1] = 1.0\n",
    "    mean_auc = auc(mean_fpr, mean_tpr)\n",
    "    std_auc = np.std(aucs)\n",
    "    ax.plot(mean_fpr, mean_tpr, color='b', label=r'Mean ROC (AUC = %0.2f $\\pm$ %0.2f)' % (mean_auc, std_auc), lw=2, alpha=.8)\n",
    "\n",
    "    std_tpr = np.std(tprs, axis=0)\n",
    "    tprs_upper = np.minimum(mean_tpr + std_tpr, 1)\n",
    "    tprs_lower = np.maximum(mean_tpr - std_tpr, 0)\n",
    "    ax.fill_between(mean_fpr, tprs_lower, tprs_upper, color='grey', alpha=.2, label=r'$\\pm$ 1 std. dev.')\n",
    "\n",
    "    ax.set(xlim=[-0.05, 1.05], ylim=[-0.05, 1.05], title=\"Receiver operating characteristic\")\n",
    "    ax.legend(loc=\"lower right\")\n",
    "    plt.show()\n",
    "\n",
    "def precision_recall_cv_plot(X, y, cvsplitter, estimators, showf1=False):\n",
    "    precisions = []\n",
    "    recalls = []\n",
    "    f1s = []\n",
    "    mean_thresholds = np.linspace(0, 1, 251)\n",
    "\n",
    "    fig, ax = plt.subplots()\n",
    "\n",
    "    for i, (train, test) in enumerate(cvsplitter.split(X,y)):\n",
    "        y_predict_proba = estimators[i].predict_proba(X.iloc[test])[:, 1]\n",
    "        precision, recall, thresholds = precision_recall_curve(y[test], y_predict_proba)\n",
    "        interp_precision = np.interp(mean_thresholds, thresholds, precision[0:-1])\n",
    "        interp_precision[-1] = 1.0\n",
    "        interp_recall = np.interp(mean_thresholds, thresholds, recall[0:-1])\n",
    "        interp_recall[-1] = 0.0\n",
    "        interp_f1 = interp_precision * interp_recall / (interp_precision + interp_recall) * 2\n",
    "        precisions.append(interp_precision)\n",
    "        recalls.append(interp_recall)\n",
    "        recalls.append(interp_recall)\n",
    "        f1s.append(interp_f1)\n",
    "        ax.plot(mean_thresholds, interp_precision, color='b', lw=1, alpha=.3)\n",
    "        ax.plot(mean_thresholds, interp_recall, color='r', lw=1, alpha=.3)\n",
    "        if showf1: ax.plot(mean_thresholds, interp_f1, color='g', lw=1, alpha=.3)\n",
    "\n",
    "    mean_precision = np.mean(precisions, axis=0)\n",
    "    mean_recall = np.mean(recalls, axis=0)\n",
    "    mean_f1 = np.mean(f1s, axis=0)\n",
    "\n",
    "    ax.plot(mean_thresholds, mean_precision, color='b', lw=2, alpha=.8, label='Precision')\n",
    "    ax.plot(mean_thresholds, mean_recall, color='r', lw=2, alpha=.8, label='Recall')\n",
    "    if showf1: ax.plot(mean_thresholds, mean_f1, color='g', lw=2, alpha=.8, label='f1')\n",
    "\n",
    "    std_precision = np.std(precisions, axis=0)\n",
    "    precision_upper = np.minimum(mean_precision + std_precision, 1)\n",
    "    precision_lower = np.maximum(mean_precision - std_precision, 0)\n",
    "    ax.fill_between(mean_thresholds, precision_lower, precision_upper, color='grey', alpha=.2)\n",
    "\n",
    "    std_recall = np.std(recalls, axis=0)\n",
    "    recall_upper = np.minimum(mean_recall + std_recall, 1)\n",
    "    recall_lower = np.maximum(mean_recall - std_recall, 0)\n",
    "    ax.fill_between(mean_thresholds, recall_lower, recall_upper, color='grey', alpha=.2)\n",
    "\n",
    "    std_f1 = np.std(f1s, axis=0)\n",
    "    f1_upper = np.minimum(mean_f1 + std_f1, 1)\n",
    "    f1_lower = np.maximum(mean_f1 - std_f1, 0)\n",
    "    ax.fill_between(mean_thresholds, f1_lower, f1_upper, color='grey', alpha=.2)\n",
    "\n",
    "    ax.set(xlim=[-0.05, 1.05], ylim=[-0.05, 1.05], title=\"Precision/recall-threshold curves\",\n",
    "        xlabel='Threshold', ylabel='Precision/recall')\n",
    "    ax.legend(loc=\"center left\")\n",
    "    ax.grid()\n",
    "    plt.show()\n",
    "\n",
    "class LemmaTokenizer:\n",
    "    ignore_tokens = [',', '.', ';', ':', '\"', '``', \"''\", '`', '(', ')', '{', '}', '?', '!']\n",
    "    def __init__(self):\n",
    "        self.wnl = WordNetLemmatizer()\n",
    "    def __call__(self, doc):\n",
    "        return [self.wnl.lemmatize(t) for t in word_tokenize(doc) if t not in self.ignore_tokens]\n",
    "\n",
    "regex = re.compile('[^a-z0-9]')\n",
    "def clear_latex(string):\n",
    "    s = string.lower()\n",
    "    #s = re.sub('\\\\$_{', '_', s)\n",
    "    #s = re.sub('}\\\\$', '', s)\n",
    "    #s = re.sub('\\\\$', '', s)\n",
    "    ##s = re.sub('\\\\$.+?\\\\$', '', s)\n",
    "    s = re.sub('\\n', ' ', s)\n",
    "    s = regex.sub(' ', s)\n",
    "    return s"
   ],
   "outputs": [],
   "metadata": {}
  },
  {
   "cell_type": "markdown",
   "source": [
    "### Define categories"
   ],
   "metadata": {}
  },
  {
   "cell_type": "code",
   "execution_count": 3,
   "source": [
    "categories = {'cond-mat', 'quant-ph', 'cond-mat.mes-hall', 'cond-mat.supr-con', 'cond-mat.mtrl-sci', 'cond-mat.str-el', 'cond-mat.other'}"
   ],
   "outputs": [],
   "metadata": {}
  },
  {
   "cell_type": "markdown",
   "source": [
    "### Load papers from arXiv JSON by Kaggle"
   ],
   "metadata": {}
  },
  {
   "cell_type": "code",
   "execution_count": 4,
   "source": [
    "papers = []\n",
    "\n",
    "with open(\"data/arxiv-metadata-oai-snapshot.json\", \"r\") as file:\n",
    "    for entry in file:\n",
    "        onepaper = json.loads(entry)\n",
    "        if categories & set(onepaper['categories'].split(' ')):\n",
    "            onepaper['authors_FLast'] = get_authors_FLast(onepaper['authors_parsed'])\n",
    "            papers.append(onepaper)\n",
    "\n",
    "papers_df = pd.DataFrame().from_records(papers)\n",
    "\n",
    "print('number of papers in the selected categories =',len(papers))"
   ],
   "outputs": [
    {
     "output_type": "stream",
     "name": "stdout",
     "text": [
      "number of papers in the selected categories = 317761\n"
     ]
    }
   ],
   "metadata": {}
  },
  {
   "cell_type": "markdown",
   "source": [
    "### Find own papers of the authors"
   ],
   "metadata": {}
  },
  {
   "cell_type": "code",
   "execution_count": 5,
   "source": [
    "authors = ['PBoross','LOroszlany','APalyi','JAsboth','GSzechenyi']\n",
    "\n",
    "ownids = list(papers_df[papers_df[\"authors_FLast\"].str.contains('|'.join(authors))]['id'])\n",
    "\n",
    "print('number of papers of the authors =',len(ownids))"
   ],
   "outputs": [
    {
     "output_type": "stream",
     "name": "stdout",
     "text": [
      "number of papers of the authors = 92\n"
     ]
    }
   ],
   "metadata": {}
  },
  {
   "cell_type": "markdown",
   "source": [
    "### Add cited papers by prophy.science (own and cited -> relevant)"
   ],
   "metadata": {}
  },
  {
   "cell_type": "code",
   "execution_count": 6,
   "source": [
    "relevantids = ownids.copy()\n",
    "\n",
    "for id in ownids:\n",
    "    with libreq.urlopen('https://www.prophy.science/api/arxiv/' + id) as url:\n",
    "        refs1manuscript = json.loads(url.read())\n",
    "    relevantids.extend([ref['arxivId'] for ref in refs1manuscript['references'] if ref['arxivId'] != None])\n",
    "\n",
    "relevantidscounted = sorted(Counter(relevantids).items(), key=lambda pair: pair[1], reverse=True)\n",
    "relevantids = [entry[0] for entry in relevantidscounted]\n",
    "counts = [entry[1] for entry in relevantidscounted]\n",
    "relevantidscounteddict = dict(zip(relevantids, counts))\n",
    "\n",
    "print('number of relevant papers in any category =',len(relevantidscounted))"
   ],
   "outputs": [
    {
     "output_type": "stream",
     "name": "stdout",
     "text": [
      "number of relevant papers in any category = 1606\n"
     ]
    }
   ],
   "metadata": {}
  },
  {
   "cell_type": "markdown",
   "source": [
    "### Make training dataset and write it out"
   ],
   "metadata": {}
  },
  {
   "cell_type": "code",
   "execution_count": 21,
   "source": [
    "relevant_df = papers_df[papers_df['id'].isin(relevantids)][['abstract','title','authors_FLast','id']].replace(relevantidscounteddict).rename(columns = {'id': 'citation'})\n",
    "relevant_df['relevant'] = True\n",
    "\n",
    "print('number of relevant papers in selected categories =',len(relevant_df))\n",
    "\n",
    "irrelevant_df = papers_df[papers_df['id'].isin(relevantids) == False][['abstract','title','authors_FLast']]\n",
    "irrelevant_df['citation'] = 0\n",
    "irrelevant_df['relevant'] = False\n",
    "\n",
    "print('number of irrelevant papers in selected categories =',len(irrelevant_df))\n",
    "\n",
    "all_df = pd.concat([relevant_df, irrelevant_df])\n",
    "\n",
    "all_df.to_csv('data/traindataset.csv')"
   ],
   "outputs": [
    {
     "output_type": "stream",
     "name": "stdout",
     "text": [
      "number of relevant papers in selected categories = 1562\n",
      "number of irrelevant papers in selected categories = 316199\n"
     ]
    }
   ],
   "metadata": {}
  },
  {
   "cell_type": "markdown",
   "source": [
    "### Split to X and y"
   ],
   "metadata": {}
  },
  {
   "cell_type": "code",
   "execution_count": 22,
   "source": [
    "all_df = pd.read_csv('data/traindataset.csv', index_col=0)\n",
    "\n",
    "X = all_df[['authors_FLast','title','abstract']]\n",
    "y = np.array(all_df['relevant'])"
   ],
   "outputs": [],
   "metadata": {}
  },
  {
   "cell_type": "markdown",
   "source": [
    "### Build the model and make cross validation"
   ],
   "metadata": {}
  },
  {
   "cell_type": "code",
   "execution_count": 80,
   "source": [
    "tokenizer = LemmaTokenizer()\n",
    "token_stop = tokenizer(' '.join(stop_words))\n",
    "token_stop = [string for string in token_stop if \"'\" not in string]\n",
    "\n",
    "authors_feature = 'authors_FLast'\n",
    "authors_transformer = CountVectorizer(lowercase=False, max_features=250)\n",
    "\n",
    "title_feature = 'title'\n",
    "title_transformer = TfidfVectorizer(preprocessor=clear_latex,\n",
    "                                    stop_words=token_stop,\n",
    "                                    tokenizer=tokenizer,\n",
    "                                    ngram_range=(1,3),\n",
    "                                    max_features=1000)\n",
    "\n",
    "abstract_feature = 'abstract'\n",
    "abstract_transformer = TfidfVectorizer(preprocessor=clear_latex,\n",
    "                                       stop_words=token_stop,\n",
    "                                       tokenizer=tokenizer,\n",
    "                                       ngram_range=(1,3),\n",
    "                                       max_features=2000)\n",
    "\n",
    "preprocessor = ColumnTransformer(\n",
    "    transformers=[\n",
    "        ('authors_FLast', authors_transformer, authors_feature),\n",
    "        ('title', title_transformer, title_feature),\n",
    "        ('abstract', abstract_transformer, abstract_feature)\n",
    "    ])\n",
    "\n",
    "undersampler = RandomUnderSampler(sampling_strategy=0.1, random_state=0)\n",
    "\n",
    "#classifier = Pipeline(steps=[('preprocessor', preprocessor),\n",
    "#                             ('balancer', RandomOverSampler()),\n",
    "#                             ('classifier', MultinomialNB())])\n",
    "\n",
    "classifier = Pipeline(steps=[('undersampler', undersampler),\n",
    "                             ('oversampler', RandomOverSampler()),\n",
    "                             ('preprocessor', preprocessor),\n",
    "                             ('classifier', MultinomialNB())])\n",
    "\n",
    "cvsplitter = StratifiedShuffleSplit(n_splits=3, random_state=0)\n",
    "\n",
    "scores = cross_validate(classifier, X, y, cv=cvsplitter,\n",
    "                        scoring=('accuracy', 'precision', 'recall', 'f1', 'roc_auc'),\n",
    "                        #return_train_score=True,\n",
    "                        return_estimator=True,\n",
    "                        n_jobs=-1)"
   ],
   "outputs": [],
   "metadata": {}
  },
  {
   "cell_type": "code",
   "execution_count": 81,
   "source": [
    "print_score(scores, ['accuracy','precision','recall','f1','roc_auc'], train=False)\n",
    "roc_curve_cv_plot(X, y, cvsplitter, scores['estimator'])\n",
    "precision_recall_cv_plot(X, y, cvsplitter, scores['estimator'], showf1=True)"
   ],
   "outputs": [
    {
     "output_type": "stream",
     "name": "stdout",
     "text": [
      "test accuracy  = 90.2%\n",
      "test precision = 3.7%\n",
      "test recall    = 76.7%\n",
      "test f1        = 7.1%\n",
      "test roc_auc   = 91.5%\n"
     ]
    },
    {
     "output_type": "display_data",
     "data": {
      "text/plain": [
       "<Figure size 432x288 with 1 Axes>"
      ],
      "image/png": "[encoded data removed]"
     },
     "metadata": {
      "needs_background": "light"
     }
    },
    {
     "output_type": "display_data",
     "data": {
      "text/plain": [
       "<Figure size 432x288 with 1 Axes>"
      ],
      "image/png": "[encoded data removed]"
     },
     "metadata": {
      "needs_background": "light"
     }
    }
   ],
   "metadata": {}
  },
  {
   "cell_type": "markdown",
   "source": [
    "### Fit on the whole dataset and save the classifier"
   ],
   "metadata": {}
  },
  {
   "cell_type": "code",
   "execution_count": 82,
   "source": [
    "classifier.fit(X, y);\n",
    "\n",
    "filename = 'data/model.sav'\n",
    "pickle.dump(classifier, open(filename, 'wb'))"
   ],
   "outputs": [],
   "metadata": {}
  },
  {
   "cell_type": "markdown",
   "source": [
    "### Make a query and predict"
   ],
   "metadata": {}
  },
  {
   "cell_type": "code",
   "execution_count": 14,
   "source": [
    "filename = 'data/model.sav'\n",
    "classifier = pickle.load(open(filename, 'rb'))\n",
    "\n",
    "days = 7\n",
    "delta = timedelta(days = days)\n",
    "categstr = '+OR+'.join(['cat:'+x for x in categories])\n",
    "client = arxiv.Client()\n",
    "nquery = 500\n",
    "startquery = 0\n",
    "lastquery = nquery\n",
    "latestdate = False\n",
    "maxretry = 5\n",
    "predict_df = pd.DataFrame(columns = ['id','published','authors_FdotLastcomma','authors_FLast', 'title', 'abstract'])\n",
    "\n",
    "while lastquery == nquery:\n",
    "    retry = 0\n",
    "    lenquery = 0\n",
    "    while (retry < maxretry) and (lenquery != nquery):\n",
    "        feedparser = client._parse_feed(url='http://export.arxiv.org/api/query?search_query='+categstr+'&start='+str(startquery)+'&max_results='+str(nquery)+'&sortBy=submittedDate')\n",
    "        lenquery = len(feedparser['entries'])\n",
    "        retry += 1\n",
    "        time.sleep(10)\n",
    "    if retry == maxretry:\n",
    "        warnings.warn(\"Warning...........Maximum retries reached\")\n",
    "    lastquery = 0\n",
    "    for entry in feedparser.entries:\n",
    "        if not(latestdate): latestdate = datetime.strptime(entry.published[0:10],'%Y-%m-%d')\n",
    "        if latestdate - datetime.strptime(entry.published[0:10],'%Y-%m-%d') < delta:\n",
    "            lastquery += 1\n",
    "            predict_df = predicted_df.append({\n",
    "                'id' : entry.id,\n",
    "                'authors_FdotLastcomma' : get_authors_FdotLastcomma([author['name'] for author in entry.authors]),\n",
    "                'authors_FLast' : get_authors_FLast_arxivapi([author['name'] for author in entry.authors]),\n",
    "                'title' : entry.title.replace('\\n', ' '),\n",
    "                'abstract' : entry.summary.replace('\\n', ' '),\n",
    "                'published': datetime.strptime(entry.published[0:10],'%Y-%m-%d')\n",
    "                            }, ignore_index = True)\n",
    "    startquery += nquery\n",
    "    time.sleep(5)\n",
    "\n",
    "Xnew = predict_df[['authors_FLast','title','abstract']]\n",
    "\n",
    "predict_df['relevance'] = [x[1] for x in classifier.predict_proba(Xnew)]\n",
    "print('number of the requested papers = ', predicted_df.shape[0])\n",
    "\n",
    "predict_df[['id','published','authors_FdotLastcomma','title','abstract','relevance']].sort_values(by=['relevance'],ascending=False).head(5)"
   ],
   "outputs": [
    {
     "output_type": "stream",
     "name": "stdout",
     "text": [
      "number of the requested papers =  420\n"
     ]
    },
    {
     "output_type": "execute_result",
     "data": {
      "text/plain": [
       "                                    id  published  \\\n",
       "81   http://arxiv.org/abs/2107.03373v1 2021-07-07   \n",
       "234  http://arxiv.org/abs/2107.02188v1 2021-07-05   \n",
       "145  http://arxiv.org/abs/2107.02819v1 2021-07-06   \n",
       "420  http://arxiv.org/abs/2107.00784v1 2021-07-02   \n",
       "419  http://arxiv.org/abs/2107.00784v1 2021-07-02   \n",
       "\n",
       "                               authors_FdotLastcomma  \\\n",
       "81   P. Bhalla, M. Deng, R. Wang, L. Wang, D. Culcer   \n",
       "234          L. P. Gavensky, G. Usaj, C. A. Balseiro   \n",
       "145        Z. M. Raines, D. L. Maslov, L. I. Glazman   \n",
       "420         B. Voisin, J. Salfi, R. Rahman, S. Rogge   \n",
       "419         B. Voisin, J. Salfi, R. Rahman, S. Rogge   \n",
       "\n",
       "                                                 title  \\\n",
       "81   Non-linear ballistic response of quantum spin-...   \n",
       "234  Imaging chiral Andreev reflection in the prese...   \n",
       "145  Spin-valley Silin modes in graphene with subst...   \n",
       "420      Novel characterisation of dopant-based qubits   \n",
       "419      Novel characterisation of dopant-based qubits   \n",
       "\n",
       "                                              abstract  relevance  \n",
       "81   Topological edge states exhibit dissipationles...   0.999777  \n",
       "234  In this work, we theoretically study transvers...   0.999411  \n",
       "145  In the presence of external magnetic field the...   0.997674  \n",
       "420  Silicon is a leading qubit platform thanks to ...   0.990968  \n",
       "419  Silicon is a leading qubit platform thanks to ...   0.990968  "
      ],
      "text/html": [
       "<div>\n",
       "<style scoped>\n",
       "    .dataframe tbody tr th:only-of-type {\n",
       "        vertical-align: middle;\n",
       "    }\n",
       "\n",
       "    .dataframe tbody tr th {\n",
       "        vertical-align: top;\n",
       "    }\n",
       "\n",
       "    .dataframe thead th {\n",
       "        text-align: right;\n",
       "    }\n",
       "</style>\n",
       "<table border=\"1\" class=\"dataframe\">\n",
       "  <thead>\n",
       "    <tr style=\"text-align: right;\">\n",
       "      <th></th>\n",
       "      <th>id</th>\n",
       "      <th>published</th>\n",
       "      <th>authors_FdotLastcomma</th>\n",
       "      <th>title</th>\n",
       "      <th>abstract</th>\n",
       "      <th>relevance</th>\n",
       "    </tr>\n",
       "  </thead>\n",
       "  <tbody>\n",
       "    <tr>\n",
       "      <th>81</th>\n",
       "      <td>http://arxiv.org/abs/2107.03373v1</td>\n",
       "      <td>2021-07-07</td>\n",
       "      <td>P. Bhalla, M. Deng, R. Wang, L. Wang, D. Culcer</td>\n",
       "      <td>Non-linear ballistic response of quantum spin-...</td>\n",
       "      <td>Topological edge states exhibit dissipationles...</td>\n",
       "      <td>0.999777</td>\n",
       "    </tr>\n",
       "    <tr>\n",
       "      <th>234</th>\n",
       "      <td>http://arxiv.org/abs/2107.02188v1</td>\n",
       "      <td>2021-07-05</td>\n",
       "      <td>L. P. Gavensky, G. Usaj, C. A. Balseiro</td>\n",
       "      <td>Imaging chiral Andreev reflection in the prese...</td>\n",
       "      <td>In this work, we theoretically study transvers...</td>\n",
       "      <td>0.999411</td>\n",
       "    </tr>\n",
       "    <tr>\n",
       "      <th>145</th>\n",
       "      <td>http://arxiv.org/abs/2107.02819v1</td>\n",
       "      <td>2021-07-06</td>\n",
       "      <td>Z. M. Raines, D. L. Maslov, L. I. Glazman</td>\n",
       "      <td>Spin-valley Silin modes in graphene with subst...</td>\n",
       "      <td>In the presence of external magnetic field the...</td>\n",
       "      <td>0.997674</td>\n",
       "    </tr>\n",
       "    <tr>\n",
       "      <th>420</th>\n",
       "      <td>http://arxiv.org/abs/2107.00784v1</td>\n",
       "      <td>2021-07-02</td>\n",
       "      <td>B. Voisin, J. Salfi, R. Rahman, S. Rogge</td>\n",
       "      <td>Novel characterisation of dopant-based qubits</td>\n",
       "      <td>Silicon is a leading qubit platform thanks to ...</td>\n",
       "      <td>0.990968</td>\n",
       "    </tr>\n",
       "    <tr>\n",
       "      <th>419</th>\n",
       "      <td>http://arxiv.org/abs/2107.00784v1</td>\n",
       "      <td>2021-07-02</td>\n",
       "      <td>B. Voisin, J. Salfi, R. Rahman, S. Rogge</td>\n",
       "      <td>Novel characterisation of dopant-based qubits</td>\n",
       "      <td>Silicon is a leading qubit platform thanks to ...</td>\n",
       "      <td>0.990968</td>\n",
       "    </tr>\n",
       "  </tbody>\n",
       "</table>\n",
       "</div>"
      ]
     },
     "metadata": {},
     "execution_count": 14
    }
   ],
   "metadata": {}
  },
  {
   "cell_type": "markdown",
   "source": [
    "### Write predictions into 'manuscripts.db'"
   ],
   "metadata": {}
  },
  {
   "cell_type": "code",
   "execution_count": 16,
   "source": [
    "tosql_df = predicted_df[['id','published','authors_FdotLastcomma','title','abstract','relevance']].rename(columns = {\"authors_FdotLastcomma\": \"authors\"})\n",
    "\n",
    "conn = sqlite3.connect('data/manuscripts.db')\n",
    "c = conn.cursor()\n",
    "\n",
    "c.execute('CREATE TABLE IF NOT EXISTS manuscripts (id, published, authors, title, abstract, relevance)')\n",
    "conn.commit()\n",
    "\n",
    "tosql_df.to_sql('manuscripts', conn, if_exists = 'replace', index = False)"
   ],
   "outputs": [],
   "metadata": {}
  },
  {
   "cell_type": "markdown",
   "source": [
    "### Write predictions into 'manuscripts.html'"
   ],
   "metadata": {}
  },
  {
   "cell_type": "code",
   "execution_count": 15,
   "source": [
    "tohtml_df = predicted_df[['id','published','authors_FdotLastcomma','title','abstract','relevance']].rename(columns = {\"authors_FdotLastcomma\": \"authors\"})\n",
    "\n",
    "day = False\n",
    "html = '<ul>\\n'\n",
    "html += '<hr>\\n'\n",
    "for idx, row in tohtml_df[tohtml_df['relevance']>0.5].sort_values(by=['published','relevance'],ascending=False).iterrows():\n",
    "    if day != row['published']:\n",
    "        html += '<div class=\"date\">'+row['published'].strftime('%-d %B, %Y')+'</div>\\n'\n",
    "        html += '<hr>\\n'\n",
    "        day = row['published']\n",
    "    html += '<li>\\n'\n",
    "    html += '<a href=\"'+row['id']+'\">arXiv:'+row['id'].split('http://arxiv.org/abs/')[-1][:-2]+'</a>\\n'\n",
    "    html += '<div class=\"relevance\"><b>Relevance:</b>'\n",
    "    html += '<font style=\"font-family:courier, monospace\">'+progress_bar(row['relevance'])+'</font>'\n",
    "    html += str(round(100*row['relevance'],1))+'%</div>\\n'\n",
    "    html += '<div class=\"title\"><b>Title:</b> '+row['title']+'</div>\\n'\n",
    "    html += '<div class=\"authors_head\"><b>Authors:</div></b> '\n",
    "    html += '<div class=\"authors\"><i>'+row['authors']+'</i></div>\\n'\n",
    "    html += '<div class=\"abstract_head\"><b>Abstract:</b></div>\\n'\n",
    "    html += '<div class=\"abstract\">'+row['abstract']+'</div>\\n'\n",
    "    html += '<br>\\n'\n",
    "    html += '</li>\\n'\n",
    "    html += '<hr>\\n'\n",
    "html += '</ul>'\n",
    "\n",
    "with open(\"data/template.html\", \"r\") as file:\n",
    "    template = file.read()\n",
    "\n",
    "html = template.replace(\"***\", html)\n",
    "\n",
    "with open(\"data/manuscripts.html\", \"w\") as file:\n",
    "        file.write(html)"
   ],
   "outputs": [],
   "metadata": {
    "tags": []
   }
  },
  {
   "cell_type": "code",
   "execution_count": null,
   "source": [
    "abstract_words = classifier['preprocessor'].transformers_[2][1].get_feature_names()\n",
    "abstract_idfs = classifier['preprocessor'].transformers_[2][1].idf_\n",
    "abstract_tfs = classifier['preprocessor'].transformers_[2][1].transform(cited_df.abstract).sum(axis=0)\n",
    "abstract_tfs = np.squeeze(np.asarray(abstract_tfs))"
   ],
   "outputs": [],
   "metadata": {}
  },
  {
   "cell_type": "code",
   "execution_count": null,
   "source": [
    "sorted(zip(abstract_words,abstract_idfs), key = lambda x: x[1])[0:10]"
   ],
   "outputs": [],
   "metadata": {}
  },
  {
   "cell_type": "code",
   "execution_count": null,
   "source": [
    "abstract_tfidfs = dict(zip(abstract_words,abstract_tfs*abstract_idfs))\n",
    "cloud = wordcloud.WordCloud(background_color=\"black\",\n",
    "                            max_words=100,\n",
    "                            width=1600,\n",
    "                            height=800).generate_from_frequencies(abstract_tfidfs)\n",
    "\n",
    "plt.figure(figsize=[20,10], facecolor='k')\n",
    "plt.imshow(cloud, interpolation=\"bilinear\")\n",
    "plt.axis(\"off\")\n",
    "plt.show()"
   ],
   "outputs": [],
   "metadata": {}
  },
  {
   "cell_type": "code",
   "execution_count": null,
   "source": [
    "sorted(zip(abstract_words,abstract_tfs*abstract_idfs), key = lambda x: x[1],reverse=True)[0:100]"
   ],
   "outputs": [],
   "metadata": {}
  }
 ],
 "metadata": {
  "interpreter": {
   "hash": "74819d5766a1d2ad05cf1ca12736bfed9e6c5a54bd78b045d29372533f44b271"
  },
  "kernelspec": {
   "display_name": "Python 3.8.10 64-bit ('base': conda)",
   "name": "python3"
  },
  "language_info": {
   "codemirror_mode": {
    "name": "ipython",
    "version": 3
   },
   "file_extension": ".py",
   "mimetype": "text/x-python",
   "name": "python",
   "nbconvert_exporter": "python",
   "pygments_lexer": "ipython3",
   "version": "3.8.10"
  }
 },
 "nbformat": 4,
 "nbformat_minor": 5
}