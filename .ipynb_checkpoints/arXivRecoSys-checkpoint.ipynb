{
 "cells": [
  {
   "cell_type": "markdown",
   "id": "pressing-cloud",
   "metadata": {},
   "source": [
    "# Recommendation system for arXiv manuscripts by Peter Boross"
   ]
  },
  {
   "cell_type": "code",
   "execution_count": 1,
   "id": "third-punishment",
   "metadata": {},
   "outputs": [],
   "source": [
    "import numpy as np\n",
    "import pandas as pd\n",
    "from datetime import datetime\n",
    "from datetime import timedelta\n",
    "import json\n",
    "import arxiv\n",
    "import urllib.request as libreq\n",
    "import re\n",
    "from collections import Counter\n",
    "import unidecode\n",
    "import itertools\n",
    "from sklearn.feature_extraction.text import TfidfVectorizer, CountVectorizer\n",
    "from sklearn.pipeline import Pipeline\n",
    "from sklearn.model_selection import train_test_split\n",
    "from sklearn.naive_bayes import MultinomialNB\n",
    "from sklearn.model_selection import cross_validate\n",
    "from sklearn.metrics import confusion_matrix, accuracy_score, roc_curve, auc\n",
    "from sklearn.compose import ColumnTransformer\n",
    "from sklearn.model_selection import ShuffleSplit"
   ]
  },
  {
   "cell_type": "markdown",
   "id": "temporal-transparency",
   "metadata": {},
   "source": [
    "### Helper functions"
   ]
  },
  {
   "cell_type": "code",
   "execution_count": 2,
   "id": "educational-davis",
   "metadata": {},
   "outputs": [],
   "source": [
    "def get_authors_LastF(authors):\n",
    "    r = []\n",
    "    for author in authors:\n",
    "        if len(author[1]) == 0: r.append(unidecode.unidecode(author[0]))\n",
    "        else: r.append(unidecode.unidecode(author[0]+author[1][0]))    \n",
    "    return ' '.join(r)\n",
    "\n",
    "def get_authors_LastF_2(authors):\n",
    "    r = []\n",
    "    for authorv in authors:\n",
    "        author = authorv['name'].split(' ')\n",
    "        r.append(unidecode.unidecode(author[-1]+author[0][0]))    \n",
    "    return ' '.join(r)"
   ]
  },
  {
   "cell_type": "markdown",
   "id": "cardiovascular-glasgow",
   "metadata": {},
   "source": [
    "### Load manuscripts from arXiv JSON by Kaggle"
   ]
  },
  {
   "cell_type": "code",
   "execution_count": 3,
   "id": "secondary-ecology",
   "metadata": {},
   "outputs": [
    {
     "name": "stdout",
     "output_type": "stream",
     "text": [
      "number of papers = 315071\n"
     ]
    }
   ],
   "source": [
    "articles = []\n",
    "categories = {'cond-mat', 'cond-mat.mes-hall', 'quant-ph', 'cond-mat.supr-con', 'cond-mat.mtrl-sci', 'cond-mat.str-el', 'cond-mat.other'}\n",
    "\n",
    "with open(\"data/arxiv-metadata-oai-snapshot.json\", \"r\") as f:\n",
    "    for l in f:\n",
    "        d = json.loads(l)\n",
    "        if categories & set(d['categories'].split(' ')):\n",
    "            d['authors_LastF'] = get_authors_LastF(d['authors_parsed'])\n",
    "            articles.append(d)\n",
    "\n",
    "articles_df = pd.DataFrame().from_records(articles)\n",
    "\n",
    "print('number of papers =',len(articles))"
   ]
  },
  {
   "cell_type": "markdown",
   "id": "interested-formula",
   "metadata": {},
   "source": [
    "### Find manuscript of the authors"
   ]
  },
  {
   "cell_type": "code",
   "execution_count": 4,
   "id": "quantitative-thong",
   "metadata": {},
   "outputs": [
    {
     "name": "stdout",
     "output_type": "stream",
     "text": [
      "number of papers of the authors = 90\n"
     ]
    }
   ],
   "source": [
    "authors = ['BorossP','OroszlanyL','PalyiA','AsbothJ','SzechenyiG']\n",
    "\n",
    "ids = list(articles_df[articles_df[\"authors_LastF\"].str.contains('|'.join(authors))]['id'])\n",
    "\n",
    "print('number of papers of the authors =',len(ids))"
   ]
  },
  {
   "cell_type": "markdown",
   "id": "worst-netscape",
   "metadata": {},
   "source": [
    "### Find cited papers by prophy.science"
   ]
  },
  {
   "cell_type": "code",
   "execution_count": 5,
   "id": "moderate-samuel",
   "metadata": {},
   "outputs": [
    {
     "name": "stdout",
     "output_type": "stream",
     "text": [
      "number of cited papers of the authors = 1501\n"
     ]
    }
   ],
   "source": [
    "refs=[]\n",
    "\n",
    "for id in ids:\n",
    "    with libreq.urlopen('https://www.prophy.science/api/arxiv/' + id) as url:\n",
    "        refs1paper = json.loads(url.read())\n",
    "    refs.extend([ref['arxivId'] for ref in refs1paper['references'] if ref['arxivId'] != None])\n",
    "\n",
    "refscounted = sorted(Counter(refs).items(), key=lambda pair: pair[1], reverse=True)\n",
    "refs = [entry[0] for entry in refscounted]\n",
    "counts = [entry[1] for entry in refscounted]\n",
    "refscounteddict = dict(zip(refs, counts))\n",
    "\n",
    "print('number of cited papers of the authors =',len(refscounted))"
   ]
  },
  {
   "cell_type": "markdown",
   "id": "animated-report",
   "metadata": {},
   "source": [
    "### Make training dataset"
   ]
  },
  {
   "cell_type": "code",
   "execution_count": 36,
   "id": "worth-finnish",
   "metadata": {},
   "outputs": [
    {
     "name": "stdout",
     "output_type": "stream",
     "text": [
      "number of cited papers which in the selected categories = 1458\n",
      "number of non-cited papers which in the selected categories = 14580\n"
     ]
    }
   ],
   "source": [
    "cited_df = articles_df[articles_df['id'].isin(refs)][['abstract','title','authors_LastF','id']].replace(refscounteddict).rename(columns = {'id': 'citation', 'authors_LastF': 'authors'})\n",
    "cited_df['cited'] = True\n",
    "\n",
    "print('number of cited papers which in the selected categories =',len(cited_df))\n",
    "\n",
    "notcited_df = articles_df[articles_df['id'].isin(refs) == False][['abstract','title','authors_LastF']].sample(n = 10*len(cited_df)).rename(columns = {'authors_LastF': 'authors'})\n",
    "notcited_df['citation'] = 0\n",
    "notcited_df['cited'] = False\n",
    "\n",
    "print('number of non-cited papers which in the selected categories =',len(notcited_df))\n",
    "\n",
    "all_df = pd.concat([cited_df, notcited_df])\n",
    "\n",
    "X = all_df[['authors','title','abstract']]\n",
    "y = list(all_df['cited'])"
   ]
  },
  {
   "cell_type": "code",
   "execution_count": 38,
   "id": "successful-induction",
   "metadata": {},
   "outputs": [],
   "source": [
    "all_df.to_csv('data/all_df.csv')"
   ]
  },
  {
   "cell_type": "code",
   "execution_count": 39,
   "id": "outstanding-advertiser",
   "metadata": {},
   "outputs": [],
   "source": [
    "all_df_alt = pd.read_csv('data/all_df.csv')"
   ]
  },
  {
   "cell_type": "code",
   "execution_count": null,
   "id": "macro-event",
   "metadata": {},
   "outputs": [],
   "source": []
  },
  {
   "cell_type": "markdown",
   "id": "local-homeless",
   "metadata": {},
   "source": [
    "### Build the model and make cross validation"
   ]
  },
  {
   "cell_type": "code",
   "execution_count": null,
   "id": "introductory-network",
   "metadata": {},
   "outputs": [],
   "source": [
    "authors_feature = 'authors'\n",
    "authors_transformer = CountVectorizer(lowercase=False, max_features = 1000)\n",
    "\n",
    "title_feature = 'title'\n",
    "title_transformer = TfidfVectorizer(stop_words='english', ngram_range=(1,3), max_features = 2000)\n",
    "\n",
    "abstract_feature = 'abstract'\n",
    "abstract_transformer = TfidfVectorizer(stop_words='english', ngram_range=(1,3), max_features = 5000)\n",
    "\n",
    "preprocessor = ColumnTransformer(\n",
    "    transformers=[\n",
    "        ('authors', authors_transformer, authors_feature),\n",
    "        ('title', title_transformer, title_feature),\n",
    "        ('abstract', abstract_transformer, abstract_feature)\n",
    "    ])\n",
    "\n",
    "pipeline = Pipeline(steps=[('preprocessor', preprocessor),\n",
    "                           ('classifier', MultinomialNB())])\n",
    "\n",
    "scores = cross_validate(pipeline, X, y, cv=ShuffleSplit(n_splits=5),\n",
    "                        scoring=('accuracy', 'precision', 'recall' , 'roc_auc'),\n",
    "                        return_train_score=True)\n",
    "\n",
    "print('train accuracy = ',\"{:.1f}%\".format(100*np.mean(scores['train_accuracy'])),'test accuracy =',\"{:.1f}%\".format(100*np.mean(scores['test_accuracy'])))\n",
    "print('train precision = ',\"{:.1f}%\".format(100*np.mean(scores['train_precision'])),'test precision =',\"{:.1f}%\".format(100*np.mean(scores['test_precision'])))\n",
    "print('train recall = ',\"{:.1f}%\".format(100*np.mean(scores['train_recall'])),'test recall =',\"{:.1f}%\".format(100*np.mean(scores['test_recall'])))\n",
    "print('train roc_auc = ',\"{:.1f}%\".format(100*np.mean(scores['train_roc_auc'])),'test roc_auc =',\"{:.1f}%\".format(100*np.mean(scores['test_roc_auc'])))"
   ]
  },
  {
   "cell_type": "markdown",
   "id": "greater-angel",
   "metadata": {},
   "source": [
    "### Fit the model"
   ]
  },
  {
   "cell_type": "code",
   "execution_count": 27,
   "id": "endless-aspect",
   "metadata": {},
   "outputs": [],
   "source": [
    "pipeline.fit(X, y);"
   ]
  },
  {
   "cell_type": "markdown",
   "id": "improved-recognition",
   "metadata": {},
   "source": [
    "### Make a query and predict"
   ]
  },
  {
   "cell_type": "code",
   "execution_count": 28,
   "id": "sonic-romance",
   "metadata": {},
   "outputs": [],
   "source": [
    "delta = timedelta(days=1)\n",
    "catstr = '+OR+'.join(['cat:'+x for x in categories])\n",
    "client = arxiv.Client()\n",
    "latest=False\n",
    "n_query = 50\n",
    "start_query = 0\n",
    "last_query = n_query\n",
    "df = pd.DataFrame(columns = ['id','authors', 'title', 'abstract'])\n",
    "\n",
    "while last_query == n_query:\n",
    "    feedparser = client._parse_feed(url='http://export.arxiv.org/api/query?search_query='+catstr+'&start='+str(start_query)+'&max_results='+str(n_query)+'&sortBy=submittedDate')\n",
    "    last_query=0\n",
    "    for entry in feedparser.entries:\n",
    "        if not(latest): latest = datetime.strptime(entry.published[0:10],'%Y-%m-%d')\n",
    "        if latest - datetime.strptime(entry.published[0:10],'%Y-%m-%d') < delta:\n",
    "            last_query+=1\n",
    "            df = df.append({\n",
    "                'id' : entry.id,\n",
    "                'authorsFull' : [author['name'] for author in entry.authors],\n",
    "                'authors' : get_authors_LastF_2(entry.authors),\n",
    "                'title' : entry.title,\n",
    "                'abstract' : entry.summary,\n",
    "                'published': datetime.strptime(entry.published[0:10],'%Y-%m-%d')\n",
    "                            }, ignore_index = True)\n",
    "    start_query += n_query\n",
    "\n",
    "Xnew = df[['authors','title','abstract']]\n",
    "\n",
    "df['pred'] = [x[1] for x in pipeline.predict_proba(Xnew)]"
   ]
  },
  {
   "cell_type": "code",
   "execution_count": 29,
   "id": "processed-arlington",
   "metadata": {},
   "outputs": [
    {
     "data": {
      "text/html": [
       "<div>\n",
       "<style scoped>\n",
       "    .dataframe tbody tr th:only-of-type {\n",
       "        vertical-align: middle;\n",
       "    }\n",
       "\n",
       "    .dataframe tbody tr th {\n",
       "        vertical-align: top;\n",
       "    }\n",
       "\n",
       "    .dataframe thead th {\n",
       "        text-align: right;\n",
       "    }\n",
       "</style>\n",
       "<table border=\"1\" class=\"dataframe\">\n",
       "  <thead>\n",
       "    <tr style=\"text-align: right;\">\n",
       "      <th></th>\n",
       "      <th>id</th>\n",
       "      <th>authorsFull</th>\n",
       "      <th>title</th>\n",
       "      <th>abstract</th>\n",
       "      <th>pred</th>\n",
       "    </tr>\n",
       "  </thead>\n",
       "  <tbody>\n",
       "    <tr>\n",
       "      <th>1</th>\n",
       "      <td>http://arxiv.org/abs/2105.12725v1</td>\n",
       "      <td>[Chiara Devescovi, Mikel García-Díez, Iñigo Ro...</td>\n",
       "      <td>Cubic 3D Chern photonic insulators with orient...</td>\n",
       "      <td>Time Reversal Symmetry (TRS) broken topologica...</td>\n",
       "      <td>0.515815</td>\n",
       "    </tr>\n",
       "    <tr>\n",
       "      <th>48</th>\n",
       "      <td>http://arxiv.org/abs/2105.12403v1</td>\n",
       "      <td>[Balázs Dóra, Doru Sticlet, Cătălin Paşcu Moca]</td>\n",
       "      <td>Non-Hermitian Lindhard function and Friedel os...</td>\n",
       "      <td>The Lindhard function represents the basic bui...</td>\n",
       "      <td>0.199460</td>\n",
       "    </tr>\n",
       "    <tr>\n",
       "      <th>75</th>\n",
       "      <td>http://arxiv.org/abs/2105.12269v1</td>\n",
       "      <td>[Mahmoud M. Asmar, Wang-Kong Tse]</td>\n",
       "      <td>Impurity Screening and Friedel Oscillations in...</td>\n",
       "      <td>We develop a theory for the non-equilibrium sc...</td>\n",
       "      <td>0.182955</td>\n",
       "    </tr>\n",
       "    <tr>\n",
       "      <th>12</th>\n",
       "      <td>http://arxiv.org/abs/2105.12641v1</td>\n",
       "      <td>[Zachary A. H. Goodwin, Lennart Klebl, Valerio...</td>\n",
       "      <td>Flat bands, electron interactions and magnetic...</td>\n",
       "      <td>Starting with twisted bilayer graphene, graphe...</td>\n",
       "      <td>0.174965</td>\n",
       "    </tr>\n",
       "    <tr>\n",
       "      <th>36</th>\n",
       "      <td>http://arxiv.org/abs/2105.12470v1</td>\n",
       "      <td>[Carlos Vega, Miguel Bello, Diego Porras, Alej...</td>\n",
       "      <td>Qubit-photon bound states in topological waveg...</td>\n",
       "      <td>Quantum emitters interacting with photonic ban...</td>\n",
       "      <td>0.146146</td>\n",
       "    </tr>\n",
       "    <tr>\n",
       "      <th>40</th>\n",
       "      <td>http://arxiv.org/abs/2105.12461v1</td>\n",
       "      <td>[H. Geng, G. Y. Qi, L. Sheng, W. Chen, D. Y. X...</td>\n",
       "      <td>Proposal for engineering 3D quantum Hall effec...</td>\n",
       "      <td>The three-dimensional (3D) quantum Hall effect...</td>\n",
       "      <td>0.106699</td>\n",
       "    </tr>\n",
       "    <tr>\n",
       "      <th>74</th>\n",
       "      <td>http://arxiv.org/abs/2105.12275v1</td>\n",
       "      <td>[Mahmoud M. Asmar, Gaurav Gupta, Wang-Kong Tse]</td>\n",
       "      <td>Particle-hole asymmetry and quantum confinemen...</td>\n",
       "      <td>Intrinsically broken symmetries in the bulk of...</td>\n",
       "      <td>0.098140</td>\n",
       "    </tr>\n",
       "    <tr>\n",
       "      <th>42</th>\n",
       "      <td>http://arxiv.org/abs/2105.12442v1</td>\n",
       "      <td>[Olli Siltanen, Tom Kuusela, Jyrki Piilo]</td>\n",
       "      <td>Engineering of Hong-Ou-Mandel interference wit...</td>\n",
       "      <td>Hong-Ou-Mandel effect lies in the heart of qua...</td>\n",
       "      <td>0.072440</td>\n",
       "    </tr>\n",
       "    <tr>\n",
       "      <th>31</th>\n",
       "      <td>http://arxiv.org/abs/2105.12501v1</td>\n",
       "      <td>[Maximilian Paleschke, Cheng-Tien Chiang, Lian...</td>\n",
       "      <td>Plasmonic Spin-Hall Effect of propagating Surf...</td>\n",
       "      <td>Photoexcitation and shaping of a propagating s...</td>\n",
       "      <td>0.064124</td>\n",
       "    </tr>\n",
       "    <tr>\n",
       "      <th>56</th>\n",
       "      <td>http://arxiv.org/abs/2105.12373v1</td>\n",
       "      <td>[B. Szafran]</td>\n",
       "      <td>Annular confinement for electrons on liquid he...</td>\n",
       "      <td>We discuss annular confinement for electrons o...</td>\n",
       "      <td>0.063004</td>\n",
       "    </tr>\n",
       "  </tbody>\n",
       "</table>\n",
       "</div>"
      ],
      "text/plain": [
       "                                   id  \\\n",
       "1   http://arxiv.org/abs/2105.12725v1   \n",
       "48  http://arxiv.org/abs/2105.12403v1   \n",
       "75  http://arxiv.org/abs/2105.12269v1   \n",
       "12  http://arxiv.org/abs/2105.12641v1   \n",
       "36  http://arxiv.org/abs/2105.12470v1   \n",
       "40  http://arxiv.org/abs/2105.12461v1   \n",
       "74  http://arxiv.org/abs/2105.12275v1   \n",
       "42  http://arxiv.org/abs/2105.12442v1   \n",
       "31  http://arxiv.org/abs/2105.12501v1   \n",
       "56  http://arxiv.org/abs/2105.12373v1   \n",
       "\n",
       "                                          authorsFull  \\\n",
       "1   [Chiara Devescovi, Mikel García-Díez, Iñigo Ro...   \n",
       "48    [Balázs Dóra, Doru Sticlet, Cătălin Paşcu Moca]   \n",
       "75                  [Mahmoud M. Asmar, Wang-Kong Tse]   \n",
       "12  [Zachary A. H. Goodwin, Lennart Klebl, Valerio...   \n",
       "36  [Carlos Vega, Miguel Bello, Diego Porras, Alej...   \n",
       "40  [H. Geng, G. Y. Qi, L. Sheng, W. Chen, D. Y. X...   \n",
       "74    [Mahmoud M. Asmar, Gaurav Gupta, Wang-Kong Tse]   \n",
       "42          [Olli Siltanen, Tom Kuusela, Jyrki Piilo]   \n",
       "31  [Maximilian Paleschke, Cheng-Tien Chiang, Lian...   \n",
       "56                                       [B. Szafran]   \n",
       "\n",
       "                                                title  \\\n",
       "1   Cubic 3D Chern photonic insulators with orient...   \n",
       "48  Non-Hermitian Lindhard function and Friedel os...   \n",
       "75  Impurity Screening and Friedel Oscillations in...   \n",
       "12  Flat bands, electron interactions and magnetic...   \n",
       "36  Qubit-photon bound states in topological waveg...   \n",
       "40  Proposal for engineering 3D quantum Hall effec...   \n",
       "74  Particle-hole asymmetry and quantum confinemen...   \n",
       "42  Engineering of Hong-Ou-Mandel interference wit...   \n",
       "31  Plasmonic Spin-Hall Effect of propagating Surf...   \n",
       "56  Annular confinement for electrons on liquid he...   \n",
       "\n",
       "                                             abstract      pred  \n",
       "1   Time Reversal Symmetry (TRS) broken topologica...  0.515815  \n",
       "48  The Lindhard function represents the basic bui...  0.199460  \n",
       "75  We develop a theory for the non-equilibrium sc...  0.182955  \n",
       "12  Starting with twisted bilayer graphene, graphe...  0.174965  \n",
       "36  Quantum emitters interacting with photonic ban...  0.146146  \n",
       "40  The three-dimensional (3D) quantum Hall effect...  0.106699  \n",
       "74  Intrinsically broken symmetries in the bulk of...  0.098140  \n",
       "42  Hong-Ou-Mandel effect lies in the heart of qua...  0.072440  \n",
       "31  Photoexcitation and shaping of a propagating s...  0.064124  \n",
       "56  We discuss annular confinement for electrons o...  0.063004  "
      ]
     },
     "execution_count": 29,
     "metadata": {},
     "output_type": "execute_result"
    }
   ],
   "source": [
    "df[['id','authorsFull','title','abstract','pred']].sort_values(by=['pred'],ascending=False).head(10)"
   ]
  },
  {
   "cell_type": "code",
   "execution_count": null,
   "id": "early-eleven",
   "metadata": {},
   "outputs": [],
   "source": []
  }
 ],
 "metadata": {
  "kernelspec": {
   "display_name": "Python 3",
   "language": "python",
   "name": "python3"
  },
  "language_info": {
   "codemirror_mode": {
    "name": "ipython",
    "version": 3
   },
   "file_extension": ".py",
   "mimetype": "text/x-python",
   "name": "python",
   "nbconvert_exporter": "python",
   "pygments_lexer": "ipython3",
   "version": "3.8.5"
  }
 },
 "nbformat": 4,
 "nbformat_minor": 5
}
